{
 "cells": [
  {
   "cell_type": "code",
   "execution_count": 8,
   "metadata": {},
   "outputs": [
    {
     "data": {
      "text/plain": [
       "<Figure size 1728x1296 with 0 Axes>"
      ]
     },
     "metadata": {},
     "output_type": "display_data"
    }
   ],
   "source": [
    "# masks\n",
    "\n",
    "import numpy as np\n",
    "import plots\n",
    "from os.path import isfile\n",
    "from matplotlib import pyplot as plt\n",
    "from epics_utils import get_pv\n",
    "\n",
    "\n",
    "pos = ['H1051','H1061','H1071','H1081','H1011','H1021','H1031','H1041',\n",
    "       'H1052','H1062','H1072','H1082','H1012','H1022','H1032','H1042',\n",
    "       'H2041','H2042','H2051','H2052']\n",
    "\n",
    "masks={}\n",
    "modules = {}\n",
    "fig = plt.figure(figsize=(24,18), tight_layout=True)\n",
    "\n",
    "for i, dhe in enumerate(pos):\n",
    "    \n",
    "    modules[dhe] = get_pv(\"PXD:B:config-\"+dhe,\"device_module:VALUE:set\").get()\n",
    "\n",
    "    if dhe == 'H1032':\n",
    "        continue\n",
    "\n",
    "    f = '/data/commissioning/ped_mask/%s/manual_noisemask.npy'%modules[dhe]\n",
    "    if not isfile(f):\n",
    "        continue\n",
    "        \n",
    "    masks[dhe]=np.load(f)\n",
    "\n",
    "    gmean = np.mean(mhitmap,axis=1)\n",
    "#     print np.where(gmean==1)[0]\n",
    "\n",
    "\n",
    "    plots.plot_occupancyXY(masks[dhe], fig.add_subplot(3,8,i+1),device=devices[dhe], module=modules[dhe], \n",
    "                       module_type=module_type[dhe], asicpair=0,title=dhe,\n",
    "                       vmin=0,vmax=1, colorbar=True,colorbartext=\"\")\n"
   ]
  },
  {
   "cell_type": "code",
   "execution_count": null,
   "metadata": {},
   "outputs": [],
   "source": []
  }
 ],
 "metadata": {
  "kernelspec": {
   "display_name": "Python 3",
   "language": "python",
   "name": "python3"
  },
  "language_info": {
   "codemirror_mode": {
    "name": "ipython",
    "version": 3
   },
   "file_extension": ".py",
   "mimetype": "text/x-python",
   "name": "python",
   "nbconvert_exporter": "python",
   "pygments_lexer": "ipython3",
   "version": "3.6.8"
  }
 },
 "nbformat": 4,
 "nbformat_minor": 4
}
